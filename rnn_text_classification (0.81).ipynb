{
  "cells": [
    {
      "cell_type": "code",
      "execution_count": 2,
      "metadata": {
        "colab": {
          "base_uri": "https://localhost:8080/"
        },
        "id": "v8c9MTVAAMFA",
        "outputId": "0e8c988e-e1ce-456d-d79a-11506bf4f392"
      },
      "outputs": [
        {
          "output_type": "stream",
          "name": "stderr",
          "text": [
            "[nltk_data] Downloading package stopwords to /root/nltk_data...\n",
            "[nltk_data]   Unzipping corpora/stopwords.zip.\n"
          ]
        }
      ],
      "source": [
        "import pandas as pd\n",
        "pd.options.mode.chained_assignment = None\n",
        "import csv\n",
        "\n",
        "import numpy as np\n",
        "\n",
        "from tqdm import trange\n",
        "from statistics import mean\n",
        "\n",
        "import torch\n",
        "import torch.nn as nn\n",
        "from torch.utils.data import Dataset, DataLoader\n",
        "import torch.optim as optim\n",
        "import torch.nn.functional as F\n",
        "\n",
        "import nltk\n",
        "nltk.download(\"stopwords\")\n",
        "\n",
        "from sklearn.model_selection import train_test_split\n",
        "from sklearn.metrics import accuracy_score, confusion_matrix\n",
        "import matplotlib.pyplot as plt\n",
        "import seaborn as sn"
      ]
    },
    {
      "cell_type": "code",
      "execution_count": 3,
      "metadata": {
        "colab": {
          "base_uri": "https://localhost:8080/"
        },
        "id": "YalqqT6uBZj2",
        "outputId": "9cd51dd6-9bf4-4894-dd05-37c0fa991f94"
      },
      "outputs": [
        {
          "output_type": "stream",
          "name": "stdout",
          "text": [
            "Mounted at /content/drive\n"
          ]
        }
      ],
      "source": [
        "from google.colab import drive\n",
        "drive.mount('/content/drive')\n",
        "\n",
        "PATH = '/content/drive/MyDrive/some-topics'"
      ]
    },
    {
      "cell_type": "code",
      "execution_count": 82,
      "metadata": {
        "id": "81MlqGW-AMFD"
      },
      "outputs": [],
      "source": [
        "# ALL PARAMETERS\n",
        "number_of_takes = 600\n",
        "take_rows = 20\n",
        "\n",
        "words_in_sentence = 300\n",
        "\n",
        "CONTEXT_SIZE = 2\n",
        "EMBEDDING_DIM = 300\n",
        "N_HIDDEN_LAYERS = 1\n",
        "BIDIRECTIONAL = True\n",
        "lr = 0.07\n",
        "\n",
        "BS = 10\n",
        "epochs = 40\n",
        "device = 'cuda' if torch.cuda.is_available() else 'cpu'\n",
        "\n",
        "text = pd.read_csv(f'{PATH}/modified.csv', nrows =1)\n",
        "columns = text.columns"
      ]
    },
    {
      "cell_type": "markdown",
      "metadata": {
        "id": "ef5bl_ZCAMFE"
      },
      "source": [
        "# Load model to take embedding matrix"
      ]
    },
    {
      "cell_type": "code",
      "execution_count": 5,
      "metadata": {
        "id": "4ebV6x5RAMFF"
      },
      "outputs": [],
      "source": [
        "class CBOWModeler(nn.Module):\n",
        "    def __init__(self, vocab_size, embedding_dim):\n",
        "        super(CBOWModeler, self).__init__()\n",
        "        self.linear1 = nn.Linear(vocab_size, embedding_dim)\n",
        "        self.linear2 = nn.Linear(embedding_dim, vocab_size)\n",
        "\n",
        "\n",
        "    def forward(self, inputs):\n",
        "        emb = self.linear1(inputs)\n",
        "        out_s_layer = self.linear2(emb)\n",
        "\n",
        "        # print(out_s_layer.shape)\n",
        "        log_probs = F.log_softmax(out_s_layer, dim=0)\n",
        "        return log_probs\n",
        "\n",
        "\n",
        "    def predict(self, input, null_vector):\n",
        "        context_vec = null_vector.copy()\n",
        "        for word in input:\n",
        "            context_vec[word] = 1;\n",
        "        context_vec = list(context_vec.values())\n",
        "\n",
        "        context_tensor = torch.tensor(context_vec, dtype=torch.float).to(device)\n",
        "        res = self.forward(context_tensor)\n",
        "        print(res.shape)\n",
        "        res_arg = torch.argmax(res).item()\n",
        "\n",
        "        return list(null_vector.keys())[res_arg]\n",
        "\n",
        "\n",
        "    def write_embedding_to_file(self,filename):\n",
        "        for i in self.embeddings.parameters():\n",
        "            weights = i.cpu().data.numpy()\n",
        "        np.save(filename,weights)\n",
        "\n",
        "\n",
        "    def write_linear_to_file(self,filename):\n",
        "        for i in self.linear2.parameters():\n",
        "            weights = i.cpu().data.numpy()\n",
        "        np.save(filename,weights)"
      ]
    },
    {
      "cell_type": "code",
      "execution_count": 6,
      "metadata": {
        "id": "uRosfBMlAMFG"
      },
      "outputs": [],
      "source": [
        "null_vector = pd.read_csv(f'{PATH}/alphabet_full_text.csv').to_dict(orient='records')[0]\n",
        "\n",
        "model = CBOWModeler(len(null_vector), EMBEDDING_DIM)\n",
        "model.load_state_dict(torch.load(f'{PATH}/model_full_text', map_location=torch.device(device)))\n",
        "\n",
        "emb_matrix = [i for i in model.linear1.parameters()][0]\n",
        "emb_matrix = emb_matrix.cpu().detach().numpy()"
      ]
    },
    {
      "cell_type": "code",
      "execution_count": 72,
      "metadata": {
        "id": "afpQpfOBAMFH"
      },
      "outputs": [],
      "source": [
        "text = pd.read_csv(f'/{PATH}/modified.csv', nrows =number_of_takes*take_rows)\n",
        "n_classes = len(set(text['label']))"
      ]
    },
    {
      "cell_type": "code",
      "source": [
        "sentence_len = {}\n",
        "for row in range(len(text['edited'])):\n",
        "  ln = len(text['edited'][row])\n",
        "  if ln in sentence_len.keys():\n",
        "    sentence_len[ln] += 1\n",
        "  else:\n",
        "    sentence_len[ln] = 1\n",
        "\n",
        "sentence_len = dict(sorted(sentence_len.items()))\n",
        "groups = sentence_len.keys()\n",
        "values = sentence_len.values()\n",
        "\n",
        "plt.bar(groups, values)\n",
        "print(list(groups)[:5], \". . .\")"
      ],
      "metadata": {
        "colab": {
          "base_uri": "https://localhost:8080/",
          "height": 448
        },
        "id": "47qdbnrfUXZz",
        "outputId": "dc55f871-12fc-424c-bb29-8772f326e411"
      },
      "execution_count": 61,
      "outputs": [
        {
          "output_type": "stream",
          "name": "stdout",
          "text": [
            "[76, 82, 87, 91, 92] . . .\n"
          ]
        },
        {
          "output_type": "display_data",
          "data": {
            "text/plain": [
              "<Figure size 640x480 with 1 Axes>"
            ],
            "image/png": "[encoded data removed]"
          },
          "metadata": {}
        }
      ]
    },
    {
      "cell_type": "markdown",
      "metadata": {
        "id": "_XPHKshMAMFH"
      },
      "source": [
        "# Вычисляем эмбеддинги для всего алфавита"
      ]
    },
    {
      "cell_type": "code",
      "execution_count": 73,
      "metadata": {
        "id": "ssveP2S0AMFH"
      },
      "outputs": [],
      "source": [
        "words_emb = null_vector.copy()\n",
        "\n",
        "for w in null_vector.keys():\n",
        "    word = null_vector.copy()\n",
        "    if (w in word.keys()): word[w] = 1\n",
        "    word = np.array(list(word.values()))\n",
        "\n",
        "    word2vec = np.matmul(emb_matrix, word)\n",
        "    words_emb[w] = word2vec\n",
        "words_emb['UNK'] = [0]*EMBEDDING_DIM"
      ]
    },
    {
      "cell_type": "code",
      "execution_count": 74,
      "metadata": {
        "colab": {
          "base_uri": "https://localhost:8080/"
        },
        "id": "Z8DCs5pCAMFI",
        "outputId": "ac00b110-246d-491a-90ed-3e70056f3e16"
      },
      "outputs": [
        {
          "output_type": "stream",
          "name": "stderr",
          "text": [
            "100%|██████████| 12000/12000 [00:02<00:00, 5734.59it/s]\n"
          ]
        }
      ],
      "source": [
        "columns_for_vec = [i for i in range(EMBEDDING_DIM)]\n",
        "vectors = {}\n",
        "\n",
        "for row in trange(number_of_takes*take_rows):\n",
        "    vectors[row] = []\n",
        "    c_words = 0\n",
        "\n",
        "    for word in eval(text['edited'][row]):\n",
        "        if c_words == words_in_sentence: break\n",
        "        if word in words_emb.keys():\n",
        "            vectors[row].append(words_emb[word])\n",
        "            c_words += 1\n",
        "\n",
        "    while c_words < words_in_sentence:\n",
        "        vectors[row].append(words_emb['UNK'])\n",
        "        c_words += 1"
      ]
    },
    {
      "cell_type": "code",
      "execution_count": 10,
      "metadata": {
        "colab": {
          "base_uri": "https://localhost:8080/"
        },
        "id": "31d4QGCTAMFJ",
        "outputId": "220d3ef2-334f-45a6-cd70-3ea108f3acad"
      },
      "outputs": [
        {
          "output_type": "stream",
          "name": "stderr",
          "text": [
            "100%|██████████| 12000/12000 [00:01<00:00, 11866.75it/s]\n",
            "<ipython-input-10-d7a954c8506b>:4: UserWarning: Creating a tensor from a list of numpy.ndarrays is extremely slow. Please consider converting the list to a single numpy.ndarray with numpy.array() before converting to a tensor. (Triggered internally at ../torch/csrc/utils/tensor_new.cpp:245.)\n",
            "  self.vectors = torch.tensor(df['vectors'], dtype=torch.float32)\n"
          ]
        }
      ],
      "source": [
        "class MyDataset(Dataset):\n",
        "\n",
        "  def __init__(self, df, targets):\n",
        "    self.vectors = torch.tensor(df['vectors'], dtype=torch.float32)\n",
        "    self.target = torch.tensor(targets)\n",
        "\n",
        "  def __len__(self):\n",
        "    return len(self.target)\n",
        "\n",
        "  def __getitem__(self,idx):\n",
        "    return self.vectors[idx], self.target[idx]\n",
        "\n",
        "\n",
        "\n",
        "columns_for_vec = [i for i in range(EMBEDDING_DIM)]\n",
        "vectors = {}\n",
        "\n",
        "for row in trange(number_of_takes*take_rows):\n",
        "    # w = [0]*EMBEDDING_DIM\n",
        "    vectors[row] = []\n",
        "    c_words = 0\n",
        "    for word in eval(text['edited'][row]):\n",
        "        if c_words == words_in_sentence: break\n",
        "        if word in words_emb.keys():\n",
        "            vectors[row].append(words_emb[word])\n",
        "            # w += words_emb[word]\n",
        "            c_words += 1\n",
        "        # vectors[row] = w\n",
        "\n",
        "    while c_words < words_in_sentence:\n",
        "        vectors[row].append(words_emb['UNK'])\n",
        "        c_words += 1\n",
        "\n",
        "vectors = pd.DataFrame(vectors.items(), columns=['id', 'vectors'])\n",
        "data = MyDataset(vectors, text['label'])"
      ]
    },
    {
      "cell_type": "markdown",
      "metadata": {
        "id": "EwNsVF4mAMFG"
      },
      "source": [
        "# Prepare RNN model"
      ]
    },
    {
      "cell_type": "code",
      "execution_count": 83,
      "metadata": {
        "colab": {
          "base_uri": "https://localhost:8080/"
        },
        "id": "s9KHHS4dAMFK",
        "outputId": "0e221403-da1f-4699-a9d3-6696acf8ed3d"
      },
      "outputs": [
        {
          "output_type": "execute_result",
          "data": {
            "text/plain": [
              "LSTM(300, 4, batch_first=True, bidirectional=True)"
            ]
          },
          "metadata": {},
          "execution_count": 83
        }
      ],
      "source": [
        "model = nn.LSTM(\n",
        "    input_size=EMBEDDING_DIM,\n",
        "    hidden_size=n_classes,\n",
        "    num_layers=N_HIDDEN_LAYERS,\n",
        "    bidirectional=BIDIRECTIONAL,\n",
        "    batch_first=True,\n",
        ")\n",
        "\n",
        "model.to(device)"
      ]
    },
    {
      "cell_type": "code",
      "execution_count": 12,
      "metadata": {
        "id": "W3c4Bqd6TOgI"
      },
      "outputs": [],
      "source": [
        "generator = torch.Generator()\n",
        "generator.manual_seed(0)\n",
        "\n",
        "train_set, val_set = torch.utils.data.random_split(data, [int(0.8*number_of_takes*take_rows), int(0.2*number_of_takes*take_rows)], generator=generator)"
      ]
    },
    {
      "cell_type": "code",
      "execution_count": 86,
      "metadata": {
        "colab": {
          "base_uri": "https://localhost:8080/"
        },
        "id": "KCyeJHErAMFK",
        "outputId": "73c36c7f-8418-47b7-d757-fc71f94048d4"
      },
      "outputs": [
        {
          "output_type": "stream",
          "name": "stderr",
          "text": [
            "\r  0%|          | 0/20 [00:00<?, ?it/s]<ipython-input-86-1da60efeac9f>:13: UserWarning: To copy construct from a tensor, it is recommended to use sourceTensor.clone().detach() or sourceTensor.clone().detach().requires_grad_(True), rather than torch.tensor(sourceTensor).\n",
            "  out, hidden = model(torch.tensor(train[0], dtype=torch.float).to(device))\n",
            "<ipython-input-86-1da60efeac9f>:19: UserWarning: To copy construct from a tensor, it is recommended to use sourceTensor.clone().detach() or sourceTensor.clone().detach().requires_grad_(True), rather than torch.tensor(sourceTensor).\n",
            "  loss = loss_function(res, torch.tensor(train[1], dtype=torch.long).to(device))\n",
            "  5%|▌         | 1/20 [00:02<00:45,  2.41s/it]"
          ]
        },
        {
          "output_type": "stream",
          "name": "stdout",
          "text": [
            "0.41414738511278604 \n",
            "\n"
          ]
        },
        {
          "output_type": "stream",
          "name": "stderr",
          "text": [
            " 30%|███       | 6/20 [00:14<00:36,  2.58s/it]"
          ]
        },
        {
          "output_type": "stream",
          "name": "stdout",
          "text": [
            "0.3762976439689131 \n",
            "\n"
          ]
        },
        {
          "output_type": "stream",
          "name": "stderr",
          "text": [
            " 55%|█████▌    | 11/20 [00:27<00:23,  2.57s/it]"
          ]
        },
        {
          "output_type": "stream",
          "name": "stdout",
          "text": [
            "0.3402778576496833 \n",
            "\n"
          ]
        },
        {
          "output_type": "stream",
          "name": "stderr",
          "text": [
            " 80%|████████  | 16/20 [00:39<00:09,  2.45s/it]"
          ]
        },
        {
          "output_type": "stream",
          "name": "stdout",
          "text": [
            "0.316960610585132 \n",
            "\n"
          ]
        },
        {
          "output_type": "stream",
          "name": "stderr",
          "text": [
            "100%|██████████| 20/20 [00:49<00:00,  2.46s/it]\n"
          ]
        },
        {
          "output_type": "execute_result",
          "data": {
            "text/plain": [
              "0.30064367927843705"
            ]
          },
          "metadata": {},
          "execution_count": 86
        }
      ],
      "source": [
        "optimizer = optim.Adam(model.parameters(), lr)\n",
        "loss_function = nn.CrossEntropyLoss()\n",
        "\n",
        "N_BATCH = int(len(train_set)/BS)\n",
        "\n",
        "for ep in trange(epochs):\n",
        "    total_loss = 0\n",
        "\n",
        "    for batch in range(N_BATCH):\n",
        "        optimizer.zero_grad()\n",
        "        train = train_set[batch*BS:(batch+1)*BS]\n",
        "\n",
        "        out, hidden = model(torch.tensor(train[0], dtype=torch.float).to(device))\n",
        "        res = hidden[1]\n",
        "\n",
        "        res = res.mean(dim=0)\n",
        "        # print(res)\n",
        "\n",
        "        loss = loss_function(res, torch.tensor(train[1], dtype=torch.long).to(device))\n",
        "\n",
        "        loss.backward()\n",
        "        optimizer.step()\n",
        "\n",
        "        total_loss += loss.item()\n",
        "    if ep % 5 == 0:\n",
        "        print(total_loss/N_BATCH, '\\n')\n",
        "\n",
        "total_loss/N_BATCH"
      ]
    },
    {
      "cell_type": "code",
      "execution_count": 87,
      "metadata": {
        "colab": {
          "base_uri": "https://localhost:8080/",
          "height": 771
        },
        "id": "nkivGLMSAMFL",
        "outputId": "44693bab-bd59-4c9b-f8ae-97a30ce3a801"
      },
      "outputs": [
        {
          "output_type": "stream",
          "name": "stderr",
          "text": [
            "<ipython-input-87-c1a90d62f1be>:1: UserWarning: To copy construct from a tensor, it is recommended to use sourceTensor.clone().detach() or sourceTensor.clone().detach().requires_grad_(True), rather than torch.tensor(sourceTensor).\n",
            "  out, hidden = model(torch.tensor(val_set[:][0], dtype=torch.float).to(device))\n"
          ]
        },
        {
          "output_type": "stream",
          "name": "stdout",
          "text": [
            "torch.Size([2400, 4])\n",
            "acc:  0.8108333333333333\n"
          ]
        },
        {
          "output_type": "display_data",
          "data": {
            "text/plain": [
              "<Figure size 750x750 with 1 Axes>"
            ],
            "image/png": "[encoded data removed]"
          },
          "metadata": {}
        }
      ],
      "source": [
        "out, hidden = model(torch.tensor(val_set[:][0], dtype=torch.float).to(device))\n",
        "res = hidden[1]\n",
        "res = res.mean(dim=0)\n",
        "\n",
        "preds = res.cpu().argmax(-1).detach().numpy()\n",
        "print(res.shape)\n",
        "print(\"acc: \", accuracy_score(val_set[:][1], preds))\n",
        "\n",
        "conf_matrix = confusion_matrix(y_true=val_set[:][1], y_pred=preds)\n",
        "\n",
        "fig, ax = plt.subplots(figsize=(7.5, 7.5))\n",
        "ax.matshow(conf_matrix, cmap=plt.cm.Blues, alpha=0.3)\n",
        "for i in range(conf_matrix.shape[0]):\n",
        "    for j in range(conf_matrix.shape[1]):\n",
        "        ax.text(x=j, y=i,s=conf_matrix[i, j], va='center', ha='center', size='xx-large')\n",
        "\n",
        "plt.xlabel('Predictions', fontsize=18)\n",
        "plt.ylabel('Actuals', fontsize=18)\n",
        "plt.title('Confusion Matrix', fontsize=18)\n",
        "plt.show()"
      ]
    }
  ],
  "metadata": {
    "accelerator": "GPU",
    "colab": {
      "provenance": []
    },
    "kernelspec": {
      "display_name": "Python 3 (ipykernel)",
      "language": "python",
      "name": "python3"
    },
    "language_info": {
      "codemirror_mode": {
        "name": "ipython",
        "version": 3
      },
      "file_extension": ".py",
      "mimetype": "text/x-python",
      "name": "python",
      "nbconvert_exporter": "python",
      "pygments_lexer": "ipython3",
      "version": "3.11.2"
    }
  },
  "nbformat": 4,
  "nbformat_minor": 0
}